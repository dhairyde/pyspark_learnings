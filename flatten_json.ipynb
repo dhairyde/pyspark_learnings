{
 "cells": [
  {
   "cell_type": "code",
   "execution_count": 1,
   "id": "38002fc8",
   "metadata": {},
   "outputs": [
    {
     "data": {
      "text/html": [
       "\n",
       "            <div>\n",
       "                <p><b>SparkSession - in-memory</b></p>\n",
       "                \n",
       "        <div>\n",
       "            <p><b>SparkContext</b></p>\n",
       "\n",
       "            <p><a href=\"http://NEERAJ-DELL:4040\">Spark UI</a></p>\n",
       "\n",
       "            <dl>\n",
       "              <dt>Version</dt>\n",
       "                <dd><code>v3.4.2</code></dd>\n",
       "              <dt>Master</dt>\n",
       "                <dd><code>local[*]</code></dd>\n",
       "              <dt>AppName</dt>\n",
       "                <dd><code>Flatten_Json</code></dd>\n",
       "            </dl>\n",
       "        </div>\n",
       "        \n",
       "            </div>\n",
       "        "
      ],
      "text/plain": [
       "<pyspark.sql.session.SparkSession at 0x286d1b67090>"
      ]
     },
     "execution_count": 1,
     "metadata": {},
     "output_type": "execute_result"
    }
   ],
   "source": [
    "from pyspark.sql import SparkSession\n",
    "\n",
    "spark = SparkSession.builder\\\n",
    "        .master(\"local[*]\")\\\n",
    "        .appName(\"Flatten_Json\")\\\n",
    "        .getOrCreate()\n",
    "\n",
    "spark"
   ]
  },
  {
   "cell_type": "code",
   "execution_count": 2,
   "id": "9f8416c6",
   "metadata": {},
   "outputs": [],
   "source": [
    "# All the required imports.\n",
    "from pyspark.sql.functions import col , explode \n"
   ]
  },
  {
   "cell_type": "code",
   "execution_count": 3,
   "id": "4565ae18",
   "metadata": {},
   "outputs": [],
   "source": [
    "# reading the json file\n",
    "df_json = spark.read.format(\"json\").option(\"multiline\", True).load(\"json_data.json\")\n"
   ]
  },
  {
   "cell_type": "code",
   "execution_count": 4,
   "id": "548d73ca",
   "metadata": {},
   "outputs": [
    {
     "name": "stdout",
     "output_type": "stream",
     "text": [
      "root\n",
      " |-- Course_type: string (nullable = true)\n",
      " |-- Head_Office_Contact: long (nullable = true)\n",
      " |-- Institute_Name: string (nullable = true)\n",
      " |-- branches: array (nullable = true)\n",
      " |    |-- element: struct (containsNull = true)\n",
      " |    |    |-- City: string (nullable = true)\n",
      " |    |    |-- State: string (nullable = true)\n",
      " |    |    |-- address: string (nullable = true)\n",
      "\n"
     ]
    }
   ],
   "source": [
    "# schema of the json file \n",
    "df_json.printSchema()"
   ]
  },
  {
   "cell_type": "code",
   "execution_count": 5,
   "id": "8e73e96a",
   "metadata": {},
   "outputs": [
    {
     "name": "stdout",
     "output_type": "stream",
     "text": [
      "+-----------+-------------------+-------------------+---------------------------------------------------+\n",
      "|Course_type|Head_Office_Contact|Institute_Name     |branches                                           |\n",
      "+-----------+-------------------+-------------------+---------------------------------------------------+\n",
      "|Best_seller|8787878787         |ABC_Coaching_Center|[{Mumbai, Maharashtra, XYZ}, {Surat, Gujrat, PQRX}]|\n",
      "+-----------+-------------------+-------------------+---------------------------------------------------+\n",
      "\n"
     ]
    }
   ],
   "source": [
    "df_json.show(truncate=False)"
   ]
  },
  {
   "cell_type": "markdown",
   "id": "76919b3b",
   "metadata": {},
   "source": [
    "## Formula : array --> explode , struct --> column_name.*"
   ]
  },
  {
   "cell_type": "code",
   "execution_count": 6,
   "id": "897c4c2c",
   "metadata": {},
   "outputs": [],
   "source": [
    "# explode \n",
    "df_exploded = df_json.select(\"Course_type\",\"Head_Office_Contact\", \"Institute_Name\", explode(col(\"branches\")).alias(\"branches\"))"
   ]
  },
  {
   "cell_type": "code",
   "execution_count": 8,
   "id": "6415da28",
   "metadata": {},
   "outputs": [
    {
     "name": "stdout",
     "output_type": "stream",
     "text": [
      "+-----------+-------------------+-------------------+--------------------+\n",
      "|Course_type|Head_Office_Contact|     Institute_Name|            branches|\n",
      "+-----------+-------------------+-------------------+--------------------+\n",
      "|Best_seller|         8787878787|ABC_Coaching_Center|{Mumbai, Maharash...|\n",
      "|Best_seller|         8787878787|ABC_Coaching_Center|{Surat, Gujrat, P...|\n",
      "+-----------+-------------------+-------------------+--------------------+\n",
      "\n"
     ]
    }
   ],
   "source": [
    "df_exploded.show()"
   ]
  },
  {
   "cell_type": "code",
   "execution_count": 9,
   "id": "f48f6c9e",
   "metadata": {},
   "outputs": [],
   "source": [
    "# dealing with the struct type of data \n",
    "df_exploded = df_exploded.select(\"Course_type\",\"Head_Office_Contact\", \"Institute_Name\", \"branches.*\")"
   ]
  },
  {
   "cell_type": "code",
   "execution_count": 10,
   "id": "66a98628",
   "metadata": {},
   "outputs": [
    {
     "name": "stdout",
     "output_type": "stream",
     "text": [
      "+-----------+-------------------+-------------------+------+-----------+-------+\n",
      "|Course_type|Head_Office_Contact|     Institute_Name|  City|      State|address|\n",
      "+-----------+-------------------+-------------------+------+-----------+-------+\n",
      "|Best_seller|         8787878787|ABC_Coaching_Center|Mumbai|Maharashtra|    XYZ|\n",
      "|Best_seller|         8787878787|ABC_Coaching_Center| Surat|     Gujrat|   PQRX|\n",
      "+-----------+-------------------+-------------------+------+-----------+-------+\n",
      "\n"
     ]
    }
   ],
   "source": [
    "df_exploded.show()"
   ]
  },
  {
   "cell_type": "code",
   "execution_count": null,
   "id": "cf639611",
   "metadata": {},
   "outputs": [],
   "source": []
  },
  {
   "cell_type": "code",
   "execution_count": null,
   "id": "b57e918d",
   "metadata": {},
   "outputs": [],
   "source": []
  },
  {
   "cell_type": "code",
   "execution_count": null,
   "id": "d3878072",
   "metadata": {},
   "outputs": [],
   "source": []
  },
  {
   "cell_type": "code",
   "execution_count": null,
   "id": "d7345942",
   "metadata": {},
   "outputs": [],
   "source": []
  },
  {
   "cell_type": "code",
   "execution_count": null,
   "id": "fc99b44c",
   "metadata": {},
   "outputs": [],
   "source": []
  },
  {
   "cell_type": "code",
   "execution_count": null,
   "id": "dee3a0e8",
   "metadata": {},
   "outputs": [],
   "source": []
  },
  {
   "cell_type": "code",
   "execution_count": null,
   "id": "d3446b3d",
   "metadata": {},
   "outputs": [],
   "source": []
  },
  {
   "cell_type": "code",
   "execution_count": null,
   "id": "78258c2e",
   "metadata": {},
   "outputs": [],
   "source": []
  },
  {
   "cell_type": "code",
   "execution_count": null,
   "id": "d27b3405",
   "metadata": {},
   "outputs": [],
   "source": []
  },
  {
   "cell_type": "code",
   "execution_count": null,
   "id": "089ed518",
   "metadata": {},
   "outputs": [],
   "source": []
  },
  {
   "cell_type": "code",
   "execution_count": null,
   "id": "daf0d261",
   "metadata": {},
   "outputs": [],
   "source": []
  },
  {
   "cell_type": "code",
   "execution_count": null,
   "id": "1681b667",
   "metadata": {},
   "outputs": [],
   "source": []
  }
 ],
 "metadata": {
  "kernelspec": {
   "display_name": "Python 3 (ipykernel)",
   "language": "python",
   "name": "python3"
  },
  "language_info": {
   "codemirror_mode": {
    "name": "ipython",
    "version": 3
   },
   "file_extension": ".py",
   "mimetype": "text/x-python",
   "name": "python",
   "nbconvert_exporter": "python",
   "pygments_lexer": "ipython3",
   "version": "3.11.5"
  }
 },
 "nbformat": 4,
 "nbformat_minor": 5
}
